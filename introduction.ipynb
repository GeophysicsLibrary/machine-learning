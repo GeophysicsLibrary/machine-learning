{
 "cells": [
  {
   "cell_type": "markdown",
   "id": "85774fee-d637-412e-b29f-8c52a6ffc0b8",
   "metadata": {},
   "source": [
    "# A quick introduction to machine learning\n",
    "\n",
    "**Author:** [Leonardo Uieda](https://www.leouieda.com/)\n",
    "    \n",
    "This notebook is meant as a very brief hands-on introduction to machine learning. It will cover some of the common nomenclature, principles, and applications. It's designed to be taught as a 1-2 hour session with live-coding."
   ]
  },
  {
   "cell_type": "markdown",
   "id": "9a9786e0-5f91-4940-b96f-d1b0453c3a69",
   "metadata": {},
   "source": [
    "## Learner profile\n",
    "\n",
    "* Is currently in their final year of a STEM undergraduate degree or early years of a postgraduate degree.\n",
    "* Has studies the basics of statistics, Python programming, and linear algebra.\n",
    "* Is interested in using machine learning in their projects or as a future career."
   ]
  },
  {
   "cell_type": "markdown",
   "id": "ee0adb0a-d9a1-43ac-a28b-949357bd5f21",
   "metadata": {},
   "source": [
    "## What is ML?\n",
    "\n",
    "Some features of machine learning (from my personal point of view):\n",
    "\n",
    "* Focus on practical problems\n",
    "* Learning from data and making predictions\n",
    "* Overlap with statistics and optimization\n",
    "* Computational approach\n",
    "\n",
    "**Oversimplified summary:** Fit a mathematical model to data and use it to make predictions."
   ]
  },
  {
   "cell_type": "markdown",
   "id": "f05692c3-cd6c-45ad-9406-4a23fdc281d5",
   "metadata": {},
   "source": [
    "## Glossary \n",
    "\n",
    "<dl>\n",
    "    <dt>model</dt>\n",
    "    <dd>mathematical formula used to approximate the data</dd>\n",
    "    <dt>parameters</dt>\n",
    "    <dd>variables that define the model and control its behavior</dd>\n",
    "    <dt>labels/classes</dt>\n",
    "    <dd>quantity/category that we want to predict</dd>\n",
    "    <dt>features</dt>\n",
    "    <dd>measurements (information) used as predictors of labels/classes</dd>\n",
    "    <dt>training</dt>\n",
    "    <dd>using features and known labels/classes to fit the model (estimate its parameters)</dd>\n",
    "    <dt>hyper-parameters</dt>\n",
    "    <dd>variables that influence the training and the model but are not estimated during training</dd>\n",
    "</dl>\n",
    "\n",
    "\n",
    "**Disclaimer:** I'm not an ML researcher. Don't quote me on this."
   ]
  },
  {
   "cell_type": "markdown",
   "id": "69874269-0b1b-4607-ba2d-951749affcc3",
   "metadata": {},
   "source": [
    "## Libraries\n",
    "\n",
    "In Python, the main tool used for machine learning is [scikit-learn](https://scikit-learn.org/). We'll use it and some of the other scientific Python *stack* to play with some data as we work through the core principles of machine learning."
   ]
  },
  {
   "cell_type": "code",
   "execution_count": 11,
   "id": "1f02793c-97d1-43c1-9bdb-9d0ad09cd3aa",
   "metadata": {},
   "outputs": [],
   "source": [
    "import numpy as np"
   ]
  },
  {
   "cell_type": "markdown",
   "id": "845f8396-ecc1-40f5-9206-bf2099633d50",
   "metadata": {},
   "source": [
    "## Data\n",
    "\n",
    "Sample data. Talk about the format expected `X, y`. Challenges of getting data into that format."
   ]
  },
  {
   "cell_type": "code",
   "execution_count": null,
   "id": "46365a87-6662-46ec-bd4e-2954aa142908",
   "metadata": {},
   "outputs": [],
   "source": []
  },
  {
   "cell_type": "markdown",
   "id": "ae3af406-10ff-4eba-b131-5343867753a7",
   "metadata": {},
   "source": [
    "## Unsupervised learning: Finding patterns in the data\n",
    "\n",
    "Show how PCA and other things can be used with the dataset. Maybe clustering and cross-plots."
   ]
  },
  {
   "cell_type": "code",
   "execution_count": null,
   "id": "dc063871-3cf1-4e2c-8acd-b1065ecdd292",
   "metadata": {},
   "outputs": [],
   "source": []
  },
  {
   "cell_type": "markdown",
   "id": "83131128-071a-451a-9c35-e1862140aac2",
   "metadata": {},
   "source": [
    "## Supervised learning: Training models for prediction\n",
    "\n",
    "Train a model on our data for classification. Maybe show how the behaviour is different when using PCA and not."
   ]
  },
  {
   "cell_type": "code",
   "execution_count": null,
   "id": "ef284e04-168a-4861-bb97-504feed0cbc4",
   "metadata": {},
   "outputs": [],
   "source": []
  },
  {
   "cell_type": "markdown",
   "id": "fb6f3de3-2e8d-469e-a694-bdd62087f682",
   "metadata": {},
   "source": [
    "## Validation: How good are our predictions?\n",
    "\n",
    "Talk about validation and cross-validation."
   ]
  },
  {
   "cell_type": "code",
   "execution_count": null,
   "id": "ca4e5b07-0605-4ba0-96d7-33c4cb1610ba",
   "metadata": {},
   "outputs": [],
   "source": []
  },
  {
   "cell_type": "code",
   "execution_count": null,
   "id": "da0ba6dd-0bf5-4300-a331-9d7de815bff9",
   "metadata": {},
   "outputs": [],
   "source": []
  },
  {
   "cell_type": "code",
   "execution_count": null,
   "id": "2f5b59d6-53e3-40cf-81ba-c8d571858e8b",
   "metadata": {},
   "outputs": [],
   "source": []
  },
  {
   "cell_type": "markdown",
   "id": "1aec9788-81c2-4804-8407-f4b3d79f383d",
   "metadata": {},
   "source": [
    "## Summary\n",
    "\n",
    "Summarize the main take home messages."
   ]
  },
  {
   "cell_type": "markdown",
   "id": "a5a0fe26-a928-4a91-a6a3-ae7b67a7802e",
   "metadata": {},
   "source": [
    "---\n",
    "\n",
    "## License\n",
    "\n",
    "> This work is based on this excelled tutorial by Jake VanderPlas: https://github.com/jakevdp/sklearn_tutorial\n",
    "\n",
    "All Python source code is made available under the BSD 3-clause license. You\n",
    "can freely use and modify the code, without warranty, so long as you provide\n",
    "attribution to the authors.\n",
    "\n",
    "Unless otherwise specified, all figures and Jupyter notebooks are available\n",
    "under the Creative Commons Attribution 4.0 License (CC-BY).\n",
    "\n",
    "The full text of these licenses is provided in the [`LICENSE.txt`](LICENSE.txt)\n",
    "file."
   ]
  }
 ],
 "metadata": {
  "kernelspec": {
   "display_name": "Python [conda env:default] *",
   "language": "python",
   "name": "conda-env-default-py"
  },
  "language_info": {
   "codemirror_mode": {
    "name": "ipython",
    "version": 3
   },
   "file_extension": ".py",
   "mimetype": "text/x-python",
   "name": "python",
   "nbconvert_exporter": "python",
   "pygments_lexer": "ipython3",
   "version": "3.9.0"
  }
 },
 "nbformat": 4,
 "nbformat_minor": 5
}
